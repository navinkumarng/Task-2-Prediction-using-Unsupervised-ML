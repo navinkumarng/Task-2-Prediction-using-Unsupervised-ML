{
  "nbformat": 4,
  "nbformat_minor": 0,
  "metadata": {
    "colab": {
      "provenance": [],
      "authorship_tag": "ABX9TyNq3iITyXwjeiIwqKgaWLrw",
      "include_colab_link": true
    },
    "kernelspec": {
      "name": "python3",
      "display_name": "Python 3"
    },
    "language_info": {
      "name": "python"
    }
  },
  "cells": [
    {
      "cell_type": "markdown",
      "metadata": {
        "id": "view-in-github",
        "colab_type": "text"
      },
      "source": [
        "<a href=\"https://colab.research.google.com/github/navinkumarng/Task-2-Prediction-using-Unsupervised-ML/blob/main/Task_2_Prediction_using_Unsupervised_ML.ipynb\" target=\"_parent\"><img src=\"https://colab.research.google.com/assets/colab-badge.svg\" alt=\"Open In Colab\"/></a>"
      ]
    },
    {
      "cell_type": "markdown",
      "source": [
        "Task 2: Prediction using Unsupervised ML\n",
        "(Level - Beginner)\n",
        "\n",
        "Aim: From the given 'Iris' dataset. predict the optimum number of clusters and represent it visually.\n",
        "\n",
        "Dataset: https://bit.ly/3kXTdox"
      ],
      "metadata": {
        "id": "S0gUxEIgcqK7"
      }
    },
    {
      "cell_type": "markdown",
      "source": [
        "# Importing necessary library"
      ],
      "metadata": {
        "id": "2bNhUpzDdhLU"
      }
    },
    {
      "cell_type": "code",
      "execution_count": null,
      "metadata": {
        "id": "WEaeAbYiburz"
      },
      "outputs": [],
      "source": [
        "import pandas as pd\n",
        "import numpy as np\n",
        "import matplotlib.pyplot as plt\n",
        "import warnings\n",
        "warnings.filterwarnings(\"ignore\")\n",
        "from sklearn.datasets import load_iris\n",
        "from sklearn.cluster import KMeans\n",
        "print(\"Necessary libraries are imported successfully\")"
      ]
    },
    {
      "cell_type": "markdown",
      "source": [
        "# Load the iris dataset"
      ],
      "metadata": {
        "id": "iWoCOESpfCxQ"
      }
    },
    {
      "cell_type": "code",
      "source": [
        "iris=load_iris()\n",
        "x=iris.data[:,:2]"
      ],
      "metadata": {
        "id": "MOv_dlUifJDC"
      },
      "execution_count": null,
      "outputs": []
    },
    {
      "cell_type": "markdown",
      "source": [
        "**This code will iterate through 10 different values of 'n_clusters', fit a KMeans model for each value of 'n_clusters' using the data 'X', and then append the within-cluster sum of squares (WCSS) of each model to the list 'wcss'. The WCSS is used to determine the optimal number of clusters for a KMeans model.**"
      ],
      "metadata": {
        "id": "jPbIiMX2Dsu3"
      }
    },
    {
      "cell_type": "markdown",
      "source": [
        "# Using Elbow method to find optimal number of clusters"
      ],
      "metadata": {
        "id": "Ec1NygbaqtgD"
      }
    },
    {
      "cell_type": "code",
      "source": [
        "wcss=[]\n",
        "for i in range(1,11):\n",
        "  Kmeans=KMeans(n_clusters=i,init='k-means++',max_iter=300,n_init=10,random_state=0)\n",
        "  Kmeans.fit(x)\n",
        "  wcss.append(Kmeans.inertia_)"
      ],
      "metadata": {
        "id": "VFHHvX4trXfp"
      },
      "execution_count": null,
      "outputs": []
    },
    {
      "cell_type": "markdown",
      "source": [
        "# Plotting the elbow curve"
      ],
      "metadata": {
        "id": "d8S__LKR1N34"
      }
    },
    {
      "cell_type": "code",
      "source": [
        "plt.plot(range(1,11),wcss)\n",
        "plt.title('Elbow Curve')\n",
        "plt.xlabel(\"Number of Clusters\")\n",
        "plt.ylabel('WCSS')\n",
        "plt.show()"
      ],
      "metadata": {
        "id": "pq69EDb21UdC"
      },
      "execution_count": null,
      "outputs": []
    },
    {
      "cell_type": "markdown",
      "source": [
        "From the plot, we can see that the within-cluster sum of squares (WCSS) decreases as the number of clusters increases, but the rate of decrease slows down after k=3. This suggests that 3 may be the optimal number of clusters for the iris dataset."
      ],
      "metadata": {
        "id": "9_IHNhYZ1_YW"
      }
    },
    {
      "cell_type": "markdown",
      "source": [
        "# Kmeans clustering with k=3"
      ],
      "metadata": {
        "id": "qehZzaaW4TZh"
      }
    },
    {
      "cell_type": "code",
      "source": [
        "Kmeans=KMeans(n_clusters=3,init='k-means++',max_iter=300,n_init=10,random_state=0)\n",
        "pred_y=Kmeans.fit_predict(x)"
      ],
      "metadata": {
        "id": "G2qX-5RC4Hyu"
      },
      "execution_count": null,
      "outputs": []
    },
    {
      "cell_type": "markdown",
      "source": [
        "# Visualising the clusters"
      ],
      "metadata": {
        "id": "aPnP9zIl5UM9"
      }
    },
    {
      "cell_type": "code",
      "source": [
        "plt.title('K-Means Clustering')\n",
        "plt.xlabel('Sepal Length(cm)')\n",
        "plt.ylabel('Sepal Width(cm)')\n",
        "plt.scatter(x[pred_y==0,0],x[pred_y==0,1],s=100,c=\"red\",label='Iris-setosa')\n",
        "plt.scatter(x[pred_y==1,0],x[pred_y==1,1],s=100,c=\"blue\",label='Iris_versicolour')\n",
        "plt.scatter(x[pred_y==2,0],x[pred_y==2,1],s=100,c=\"green\",label='Iris-virginica')\n",
        "plt.scatter(Kmeans.cluster_centers_[:,0],Kmeans.cluster_centers_[:,1],s=300,c='yellow',label='Centroids')\n",
        "plt.legend()\n",
        "plt.show()"
      ],
      "metadata": {
        "id": "wqz1n7w65uq4"
      },
      "execution_count": null,
      "outputs": []
    },
    {
      "cell_type": "markdown",
      "source": [
        "**The code above uses K-means clustering with k=3 to group similar data points together. It then visualizes the resulting clusters by assigning a unique color to each cluster, and displaying the centroids in yellow.**"
      ],
      "metadata": {
        "id": "gdxx-HyJ-qMl"
      }
    }
  ]
}